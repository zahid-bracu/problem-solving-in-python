{
  "nbformat": 4,
  "nbformat_minor": 0,
  "metadata": {
    "colab": {
      "name": "arrays-problem-solving-in-python.ipynb",
      "provenance": [],
      "collapsed_sections": [],
      "authorship_tag": "ABX9TyNPrPJ2Je3+sW1IIut9If8S",
      "include_colab_link": true
    },
    "kernelspec": {
      "name": "python3",
      "display_name": "Python 3"
    },
    "language_info": {
      "name": "python"
    }
  },
  "cells": [
    {
      "cell_type": "markdown",
      "metadata": {
        "id": "view-in-github",
        "colab_type": "text"
      },
      "source": [
        "<a href=\"https://colab.research.google.com/github/zahid-bracu/problem-solving-in-python/blob/main/arrays_problem_solving_in_python.ipynb\" target=\"_parent\"><img src=\"https://colab.research.google.com/assets/colab-badge.svg\" alt=\"Open In Colab\"/></a>"
      ]
    },
    {
      "cell_type": "code",
      "execution_count": 23,
      "metadata": {
        "id": "hUgdSG3wwlEX",
        "colab": {
          "base_uri": "https://localhost:8080/"
        },
        "outputId": "5c107517-f50d-4660-e705-445a8af819b3"
      },
      "outputs": [
        {
          "output_type": "stream",
          "name": "stdout",
          "text": [
            "11\n",
            "22\n",
            "33\n",
            "44\n",
            "55\n",
            "66\n",
            "77\n",
            "88\n"
          ]
        }
      ],
      "source": [
        "#Write a python program to read and print elements of array.(1)\n",
        "array=[11,22,33,44,55,66,77,88]\n",
        "for i in array:\n",
        "  print(i)"
      ]
    },
    {
      "cell_type": "code",
      "source": [
        "#Write a python program to print all negative elements in an array.(2)\n",
        "array=[11,-22,33,-44,55,-66,77,88]\n",
        "for i in array:\n",
        "  if(i<0):\n",
        "    print(i)"
      ],
      "metadata": {
        "id": "UlQylNxJxCt0",
        "colab": {
          "base_uri": "https://localhost:8080/"
        },
        "outputId": "636db1db-f80b-41f5-989c-210296f39ea3"
      },
      "execution_count": 24,
      "outputs": [
        {
          "output_type": "stream",
          "name": "stdout",
          "text": [
            "-22\n",
            "-44\n",
            "-66\n"
          ]
        }
      ]
    },
    {
      "cell_type": "code",
      "source": [
        "#Write a python program to find sum of all array elements.(3)\n",
        "array=[11,22,33,44,55,66,77,88]\n",
        "sum=0\n",
        "for i in array:\n",
        "  sum+=i\n",
        "print(sum)"
      ],
      "metadata": {
        "id": "XiaOc_0kxVpj",
        "colab": {
          "base_uri": "https://localhost:8080/"
        },
        "outputId": "79996796-9df0-498b-fab9-94d07b537310"
      },
      "execution_count": 25,
      "outputs": [
        {
          "output_type": "stream",
          "name": "stdout",
          "text": [
            "396\n"
          ]
        }
      ]
    },
    {
      "cell_type": "code",
      "source": [
        "#Write a python program to find maximum and minimum element in an array.(4)\n",
        "array=[11,22,33,44,55,66,77,88]\n",
        "max=array[0]\n",
        "min=array[0]\n",
        "for i in array:\n",
        "  if(i>max):\n",
        "    max=i;\n",
        "  elif(i<min):\n",
        "    min=i;\n",
        "print(max)\n",
        "print(min)"
      ],
      "metadata": {
        "id": "AiiqNbqsx8Ky",
        "colab": {
          "base_uri": "https://localhost:8080/"
        },
        "outputId": "ab9e9238-acb4-4e1d-8b5c-05d7bdcab8f7"
      },
      "execution_count": 26,
      "outputs": [
        {
          "output_type": "stream",
          "name": "stdout",
          "text": [
            "88\n",
            "11\n"
          ]
        }
      ]
    },
    {
      "cell_type": "code",
      "source": [
        "#Write a python program to search an element in an array.(5)\n",
        "array=[11,22,33,44,55,66,77,88]\n",
        "search=44\n",
        "index=-1\n",
        "for i in array:\n",
        "  if(i==search):\n",
        "    index=i\n",
        "if(index<0):\n",
        "  print(\"Not Found\")\n",
        "else:\n",
        "  print(\"Found at Index \"+str(index))"
      ],
      "metadata": {
        "id": "Yh2CUn4tyZlm",
        "colab": {
          "base_uri": "https://localhost:8080/"
        },
        "outputId": "f0d04606-070d-4156-ce92-723ab40c2edd"
      },
      "execution_count": 27,
      "outputs": [
        {
          "output_type": "stream",
          "name": "stdout",
          "text": [
            "Found at Index 44\n"
          ]
        }
      ]
    },
    {
      "cell_type": "code",
      "source": [
        "#Write a python program to find second largest element in an array.(6)\n",
        "array=[11,22,33,44,55,66,77,88]\n",
        "max=array[0]\n",
        "secondMax=array[0]\n",
        "for i in array:\n",
        "  if(i>max):\n",
        "    max=i;\n",
        "\n",
        "for i in array:\n",
        "  if(i<max and i>secondMax):\n",
        "    secondMax=i\n",
        "\n",
        "print(secondMax)"
      ],
      "metadata": {
        "id": "eulAhrqrzW1X",
        "colab": {
          "base_uri": "https://localhost:8080/"
        },
        "outputId": "b8c693f0-bdf5-4817-9a47-8870fe47c31e"
      },
      "execution_count": 28,
      "outputs": [
        {
          "output_type": "stream",
          "name": "stdout",
          "text": [
            "77\n"
          ]
        }
      ]
    },
    {
      "cell_type": "code",
      "source": [
        "#Write a python program to count total number of even and odd elements in an array.(7)\n",
        "array=[11,22,33,44,55,66,77,88]\n",
        "odd=0;\n",
        "even=0;\n",
        "for i in array:\n",
        "  if(i%2==0):\n",
        "    odd=odd+1\n",
        "  else:\n",
        "    even=even+1\n",
        "print(\"Odd Count \"+str(odd))\n",
        "print(\"Even Count \"+str(even))"
      ],
      "metadata": {
        "colab": {
          "base_uri": "https://localhost:8080/"
        },
        "id": "pDt-n7FP2n8n",
        "outputId": "908e573a-67be-437a-c36b-314acc514603"
      },
      "execution_count": 29,
      "outputs": [
        {
          "output_type": "stream",
          "name": "stdout",
          "text": [
            "Odd Count 4\n",
            "Even Count 4\n"
          ]
        }
      ]
    }
  ]
}