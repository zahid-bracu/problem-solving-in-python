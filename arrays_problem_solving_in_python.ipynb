{
  "nbformat": 4,
  "nbformat_minor": 0,
  "metadata": {
    "colab": {
      "name": "arrays-problem-solving-in-python.ipynb",
      "provenance": [],
      "collapsed_sections": [],
      "authorship_tag": "ABX9TyNl9I0uutW0YfnKHMPrQmZy",
      "include_colab_link": true
    },
    "kernelspec": {
      "name": "python3",
      "display_name": "Python 3"
    },
    "language_info": {
      "name": "python"
    }
  },
  "cells": [
    {
      "cell_type": "markdown",
      "metadata": {
        "id": "view-in-github",
        "colab_type": "text"
      },
      "source": [
        "<a href=\"https://colab.research.google.com/github/zahid-bracu/problem-solving-in-python/blob/main/arrays_problem_solving_in_python.ipynb\" target=\"_parent\"><img src=\"https://colab.research.google.com/assets/colab-badge.svg\" alt=\"Open In Colab\"/></a>"
      ]
    },
    {
      "cell_type": "code",
      "execution_count": null,
      "metadata": {
        "id": "hUgdSG3wwlEX",
        "colab": {
          "base_uri": "https://localhost:8080/"
        },
        "outputId": "da807439-8ca6-4f3d-8746-f0659d215a83"
      },
      "outputs": [
        {
          "output_type": "stream",
          "name": "stdout",
          "text": [
            "11\n",
            "22\n",
            "33\n",
            "44\n",
            "55\n",
            "66\n",
            "77\n",
            "88\n"
          ]
        }
      ],
      "source": [
        "#Write a python program to read and print elements of array.(1)\n",
        "array=[11,22,33,44,55,66,77,88]\n",
        "for i in array:\n",
        "  print(i)"
      ]
    },
    {
      "cell_type": "code",
      "source": [
        "#Write a python program to print all negative elements in an array.(2)\n",
        "array=[11,-22,33,-44,55,-66,77,88]\n",
        "for i in array:\n",
        "  if(i<0):\n",
        "    print(i)"
      ],
      "metadata": {
        "id": "UlQylNxJxCt0",
        "colab": {
          "base_uri": "https://localhost:8080/"
        },
        "outputId": "9e5e2ff4-d769-4bf4-8c12-417ce6d6eb47"
      },
      "execution_count": null,
      "outputs": [
        {
          "output_type": "stream",
          "name": "stdout",
          "text": [
            "-22\n",
            "-44\n",
            "-66\n"
          ]
        }
      ]
    },
    {
      "cell_type": "code",
      "source": [
        "#Write a python program to find sum of all array elements.(3)\n",
        "array=[11,22,33,44,55,66,77,88]\n",
        "sum=0\n",
        "for i in array:\n",
        "  sum+=i\n",
        "print(sum)"
      ],
      "metadata": {
        "id": "XiaOc_0kxVpj",
        "colab": {
          "base_uri": "https://localhost:8080/"
        },
        "outputId": "6cf8d999-965b-4635-d571-08070717a55c"
      },
      "execution_count": null,
      "outputs": [
        {
          "output_type": "stream",
          "name": "stdout",
          "text": [
            "396\n"
          ]
        }
      ]
    },
    {
      "cell_type": "code",
      "source": [
        "#Write a python program to find maximum and minimum element in an array.(4)\n",
        "array=[11,22,33,44,55,66,77,88]\n",
        "max=array[0]\n",
        "min=array[0]\n",
        "for i in array:\n",
        "  if(i>max):\n",
        "    max=i;\n",
        "  elif(i<min):\n",
        "    min=i;\n",
        "print(max)\n",
        "print(min)"
      ],
      "metadata": {
        "id": "AiiqNbqsx8Ky",
        "colab": {
          "base_uri": "https://localhost:8080/"
        },
        "outputId": "c70845dd-be61-44e1-920d-46b1f40f28b0"
      },
      "execution_count": null,
      "outputs": [
        {
          "output_type": "stream",
          "name": "stdout",
          "text": [
            "88\n",
            "11\n"
          ]
        }
      ]
    },
    {
      "cell_type": "code",
      "source": [
        "#Write a python program to search an element in an array.(5)\n",
        "array=[11,22,33,44,55,66,77,88]\n",
        "search=44\n",
        "index=-1\n",
        "for i in array:\n",
        "  if(i==search):\n",
        "    index=i\n",
        "if(index<0):\n",
        "  print(\"Not Found\")\n",
        "else:\n",
        "  print(\"Found at Index \"+str(index))"
      ],
      "metadata": {
        "id": "Yh2CUn4tyZlm",
        "colab": {
          "base_uri": "https://localhost:8080/"
        },
        "outputId": "6d859b59-275b-47be-90d7-8b8614dbd9e1"
      },
      "execution_count": null,
      "outputs": [
        {
          "output_type": "stream",
          "name": "stdout",
          "text": [
            "Found at Index 44\n"
          ]
        }
      ]
    },
    {
      "cell_type": "code",
      "source": [
        "#Write a python program to find second largest element in an array.(6)\n",
        "array=[11,22,33,44,55,66,77,88]\n",
        "max=array[0]\n",
        "secondMax=array[0]\n",
        "for i in array:\n",
        "  if(i>max):\n",
        "    max=i;\n",
        "\n",
        "for i in array:\n",
        "  if(i<max and i>secondMax):\n",
        "    secondMax=i\n",
        "\n",
        "print(secondMax)"
      ],
      "metadata": {
        "id": "eulAhrqrzW1X",
        "colab": {
          "base_uri": "https://localhost:8080/"
        },
        "outputId": "16db3162-7755-4e40-8bc7-a80db19295d0"
      },
      "execution_count": null,
      "outputs": [
        {
          "output_type": "stream",
          "name": "stdout",
          "text": [
            "77\n"
          ]
        }
      ]
    },
    {
      "cell_type": "code",
      "source": [
        "#Write a python program to count total number of even and odd elements in an array.(7)\n",
        "array=[11,22,33,44,55,66,77,88]\n",
        "odd=0;\n",
        "even=0;\n",
        "for i in array:\n",
        "  if(i%2==0):\n",
        "    odd=odd+1\n",
        "  else:\n",
        "    even=even+1\n",
        "print(\"Odd Count \"+str(odd))\n",
        "print(\"Even Count \"+str(even))"
      ],
      "metadata": {
        "colab": {
          "base_uri": "https://localhost:8080/"
        },
        "id": "pDt-n7FP2n8n",
        "outputId": "243f42b6-d9de-4ddc-acc2-5ad25e3ad07b"
      },
      "execution_count": null,
      "outputs": [
        {
          "output_type": "stream",
          "name": "stdout",
          "text": [
            "Odd Count 4\n",
            "Even Count 4\n"
          ]
        }
      ]
    },
    {
      "cell_type": "code",
      "source": [
        "#Write a python program to copy all elements from an array to another array. (8)\n",
        "array=[11,22,33,44,55,66,77,88,99]\n",
        "count=0\n",
        "\n",
        "for i in array:\n",
        "  count=count+1\n",
        "\n",
        "copyArray=[None]*count\n",
        "\n",
        "for i in range(0,count-1):\n",
        "  copyArray[i]=array[i]\n",
        "\n",
        "for i in copyArray:\n",
        "  print(i)"
      ],
      "metadata": {
        "id": "aPTKZ6zbiOOI",
        "outputId": "15754e20-54c6-426e-aed7-540880fc2c8d",
        "colab": {
          "base_uri": "https://localhost:8080/"
        }
      },
      "execution_count": null,
      "outputs": [
        {
          "output_type": "stream",
          "name": "stdout",
          "text": [
            "11\n",
            "22\n",
            "33\n",
            "44\n",
            "55\n",
            "66\n",
            "77\n",
            "88\n",
            "None\n"
          ]
        }
      ]
    },
    {
      "cell_type": "code",
      "source": [
        "#Write a python program to insert an element in an array. (9)\n",
        "value=44\n",
        "position=3\n",
        "array=[11,22,33,55,66,77,88,99,None,None]\n",
        "count=0\n",
        "for i in array:\n",
        "  if(i==None):\n",
        "    break\n",
        "  count=count+1\n",
        "j=count-1\n",
        "while(j>=position):\n",
        "  array[j+1]=array[j]\n",
        "  j=j-1\n",
        "array[position]=value\n",
        "print(array)"
      ],
      "metadata": {
        "id": "3F1SeWITjJfX",
        "outputId": "e0e8bd8a-f8b0-4556-b99e-30bef8c5a41f",
        "colab": {
          "base_uri": "https://localhost:8080/"
        }
      },
      "execution_count": null,
      "outputs": [
        {
          "output_type": "stream",
          "name": "stdout",
          "text": [
            "[11, 22, 33, 44, 55, 66, 77, 88, 99, None]\n"
          ]
        }
      ]
    },
    {
      "cell_type": "code",
      "source": [
        "#Write a python program to delete an element from an array at specified position. (10)\n",
        "position=3\n",
        "array=[11,22,33,44,55,66,77,88,99]\n",
        "for i in range(position,len(array)-1):\n",
        "  array[i]=array[i+1]\n",
        "\n",
        "array[len(array)-1]=None\n",
        "print(array)"
      ],
      "metadata": {
        "id": "te2U24wFuUsE",
        "outputId": "7a1003dc-35f7-4012-ebe0-3ed072d64b19",
        "colab": {
          "base_uri": "https://localhost:8080/"
        }
      },
      "execution_count": null,
      "outputs": [
        {
          "output_type": "stream",
          "name": "stdout",
          "text": [
            "[11, 22, 33, 55, 66, 77, 88, 99, None]\n"
          ]
        }
      ]
    },
    {
      "cell_type": "code",
      "source": [
        "#Write a python program to count frequency of each element in an array. (11)\n",
        "array=[1,2,3,1,4,9,6,7,4,3,5,2,5,7,9]\n",
        "frequency=[0,0,0,0,0,0,0,0,0,0]\n",
        "for i in range(0,len(array)):\n",
        "  frequency[array[i]]=frequency[array[i]]+1\n",
        "\n",
        "for i in range(0,len(frequency)):\n",
        "  print(str(i)+ \" is presented \"+str(frequency[i])+\" Times\")"
      ],
      "metadata": {
        "id": "DvO49L2rsg_e",
        "outputId": "f922f052-2158-4b79-b461-f0ab9fa1c2da",
        "colab": {
          "base_uri": "https://localhost:8080/"
        }
      },
      "execution_count": null,
      "outputs": [
        {
          "output_type": "stream",
          "name": "stdout",
          "text": [
            "0 is presented 0 Times\n",
            "1 is presented 2 Times\n",
            "2 is presented 2 Times\n",
            "3 is presented 2 Times\n",
            "4 is presented 2 Times\n",
            "5 is presented 2 Times\n",
            "6 is presented 1 Times\n",
            "7 is presented 2 Times\n",
            "8 is presented 0 Times\n",
            "9 is presented 2 Times\n"
          ]
        }
      ]
    },
    {
      "cell_type": "code",
      "source": [
        "#Write a python program to print all unique elements in the array.(12)\n",
        "array=[1,2,3,1,4,9,6,11,7,4,3,11,5,2,5,7,9]\n",
        "for i in range(0,len(array)):\n",
        "  flag=True\n",
        "  for j in range(i+1,len(array)):\n",
        "    if(array[i]==array[j]):\n",
        "      flag=False\n",
        "  if(flag==True):\n",
        "    print(array[i])"
      ],
      "metadata": {
        "colab": {
          "base_uri": "https://localhost:8080/"
        },
        "id": "YS72F7HztVT3",
        "outputId": "6688daa8-e514-46a6-f69e-2c7e119f781b"
      },
      "execution_count": null,
      "outputs": [
        {
          "output_type": "stream",
          "name": "stdout",
          "text": [
            "1\n",
            "6\n",
            "4\n",
            "3\n",
            "11\n",
            "2\n",
            "5\n",
            "7\n",
            "9\n"
          ]
        }
      ]
    },
    {
      "cell_type": "code",
      "source": [
        "#Write a Python program to count total number of duplicate elements in an array.(13)\n",
        "array=[1,2,3,1,4,9,6,11,7,4,3,11,5,2,5,7,9]\n",
        "count=0\n",
        "for i in range(0,len(array)):\n",
        "  flag=True\n",
        "  for j in range(i+1,len(array)):\n",
        "    if(array[i]==array[j]):\n",
        "      count=count+1\n",
        "print(\"Total Number of Duplicate Number : \"+str(count));"
      ],
      "metadata": {
        "colab": {
          "base_uri": "https://localhost:8080/"
        },
        "id": "x3-rfBSzuf9N",
        "outputId": "533b82fb-4e91-4b92-c0a4-7ace93c4c231"
      },
      "execution_count": null,
      "outputs": [
        {
          "output_type": "stream",
          "name": "stdout",
          "text": [
            "Total Number of Duplicate Number : 8\n"
          ]
        }
      ]
    },
    {
      "cell_type": "code",
      "source": [
        "#Write a Python program to delete all duplicate elements from an array.(14)\n",
        "array=[1,2,3,1,4,9,6,11,7,4,3,11,5,2,5,7,9]\n",
        "count=0\n",
        "for i in range(0,len(array)):\n",
        "  flag=True\n",
        "  for j in range(i+1,len(array)):\n",
        "    if(array[i]==array[j]):\n",
        "      flag=False\n",
        "  if(flag==True):\n",
        "    count=count+1\n",
        "newArray=[None] * count\n",
        "c=0\n",
        "for i in range(0,len(array)):\n",
        "  flag=True\n",
        "  for j in range(i+1,len(array)):\n",
        "    if(array[i]==array[j]):\n",
        "      flag=False\n",
        "  if(flag==True):\n",
        "    newArray[c]=array[i]\n",
        "    c=c+1\n",
        "print(newArray)\n"
      ],
      "metadata": {
        "colab": {
          "base_uri": "https://localhost:8080/"
        },
        "id": "LksrWCPnvF42",
        "outputId": "4ad4810d-0358-485c-e0a9-ac89376b79b5"
      },
      "execution_count": null,
      "outputs": [
        {
          "output_type": "stream",
          "name": "stdout",
          "text": [
            "[1, 6, 4, 3, 11, 2, 5, 7, 9]\n"
          ]
        }
      ]
    },
    {
      "cell_type": "code",
      "source": [
        "#Write a python program to merge two array to third array.(15)\n",
        "arrayOne=[1,2,3,4,5]\n",
        "arrayTwo=[6,7,8,9,10]\n",
        "size=len(arrayOne)+len(arrayTwo);\n",
        "newArray=[None]*size\n",
        "for i in range(0,len(arrayOne)):\n",
        "  newArray[i]=arrayOne[i];\n",
        "x=len(arrayOne)\n",
        "for i in range(0,len(arrayTwo)):\n",
        "  newArray[x]=arrayTwo[i]\n",
        "  x=x+1\n",
        "print(newArray)\n"
      ],
      "metadata": {
        "id": "-1pB_MJ3wYA4",
        "outputId": "ab812e73-53cc-454d-fb90-f032edd90690",
        "colab": {
          "base_uri": "https://localhost:8080/"
        }
      },
      "execution_count": null,
      "outputs": [
        {
          "output_type": "stream",
          "name": "stdout",
          "text": [
            "[1, 2, 3, 4, 5, 6, 7, 8, 9, 10]\n"
          ]
        }
      ]
    },
    {
      "cell_type": "code",
      "source": [
        "#Write a python program to find reverse of an array.\n",
        "array=[1, 2, 3, 4, 5, 6, 7, 8, 9, 10]\n",
        "for i in range(len(array)-1,-1,-1):\n",
        "  print(array[i])"
      ],
      "metadata": {
        "id": "Jf5Iri4No3Cp",
        "outputId": "5c742593-e5f2-4d1c-ff0f-d283e9152d2e",
        "colab": {
          "base_uri": "https://localhost:8080/"
        }
      },
      "execution_count": 9,
      "outputs": [
        {
          "output_type": "stream",
          "name": "stdout",
          "text": [
            "10\n",
            "9\n",
            "8\n",
            "7\n",
            "6\n",
            "5\n",
            "4\n",
            "3\n",
            "2\n",
            "1\n"
          ]
        }
      ]
    },
    {
      "cell_type": "code",
      "source": [
        "#Write a C program to put even and odd elements of array in two separate array.\n",
        "array=[1, 2, 3, 4, 5, 6, 7, 8, 9, 10]\n",
        "oc=0\n",
        "ec=0\n",
        "for i in array:\n",
        "  if(i%2==0):\n",
        "    ec=ec+1\n",
        "  else:\n",
        "    oc=oc+1\n",
        "olist=[None]*oc\n",
        "elist=[None]*ec\n",
        "e=0\n",
        "o=0\n",
        "for i in range(0,len(array)):\n",
        "  if(i%2==0):\n",
        "    elist[e]=array[i]\n",
        "    e=e+1\n",
        "  else:\n",
        "    olist[o]=array[i]\n",
        "    o=o+1\n",
        "print(olist)\n",
        "print(elist)"
      ],
      "metadata": {
        "id": "w62FI8rjpKN9",
        "outputId": "aaf93d4f-4151-44ce-d8f0-83dbb146f60b",
        "colab": {
          "base_uri": "https://localhost:8080/"
        }
      },
      "execution_count": 16,
      "outputs": [
        {
          "output_type": "stream",
          "name": "stdout",
          "text": [
            "[2, 4, 6, 8, 10]\n",
            "[1, 3, 5, 7, 9]\n"
          ]
        }
      ]
    },
    {
      "cell_type": "code",
      "source": [
        "#Write a python program to sort array elements in ascending or descending order.\n",
        "array=[1,2,3,1,4,9,6,11,7,4,3,11,5,2,5,7,9]\n",
        "for i in range(0,len(array)):\n",
        "  for j in range(i+1,len(array)):\n",
        "    if(array[i]>array[j]):\n",
        "      temp=array[i]\n",
        "      array[i]=array[j]\n",
        "      array[j]=temp\n",
        "print(array)"
      ],
      "metadata": {
        "id": "khctR2mHr6rj",
        "outputId": "6d98a2c7-d8b8-43c2-a3bc-aac85c31d748",
        "colab": {
          "base_uri": "https://localhost:8080/"
        }
      },
      "execution_count": 19,
      "outputs": [
        {
          "output_type": "stream",
          "name": "stdout",
          "text": [
            "[1, 1, 2, 2, 3, 3, 4, 4, 5, 5, 6, 7, 7, 9, 9, 11, 11]\n"
          ]
        }
      ]
    }
  ]
}