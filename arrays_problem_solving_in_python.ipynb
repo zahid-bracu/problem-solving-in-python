{
  "nbformat": 4,
  "nbformat_minor": 0,
  "metadata": {
    "colab": {
      "name": "arrays-problem-solving-in-python.ipynb",
      "provenance": [],
      "collapsed_sections": [],
      "authorship_tag": "ABX9TyM6dy5w8QqmbdUot39jNt8B",
      "include_colab_link": true
    },
    "kernelspec": {
      "name": "python3",
      "display_name": "Python 3"
    },
    "language_info": {
      "name": "python"
    }
  },
  "cells": [
    {
      "cell_type": "markdown",
      "metadata": {
        "id": "view-in-github",
        "colab_type": "text"
      },
      "source": [
        "<a href=\"https://colab.research.google.com/github/zahid-bracu/problem-solving-in-python/blob/main/arrays_problem_solving_in_python.ipynb\" target=\"_parent\"><img src=\"https://colab.research.google.com/assets/colab-badge.svg\" alt=\"Open In Colab\"/></a>"
      ]
    },
    {
      "cell_type": "code",
      "execution_count": null,
      "metadata": {
        "id": "hUgdSG3wwlEX"
      },
      "outputs": [],
      "source": [
        "#Write a python program to read and print elements of array.\n",
        "array=[11,22,33,44,55,66,77,88]\n",
        "for i in array:\n",
        "  print(i)"
      ]
    },
    {
      "cell_type": "code",
      "source": [
        "#Write a python program to print all negative elements in an array.\n",
        "array=[11,-22,33,-44,55,-66,77,88]\n",
        "for i in array:\n",
        "  if(i<0):\n",
        "    print(i)"
      ],
      "metadata": {
        "id": "UlQylNxJxCt0"
      },
      "execution_count": null,
      "outputs": []
    },
    {
      "cell_type": "code",
      "source": [
        "#Write a python program to find sum of all array elements.\n",
        "array=[11,22,33,44,55,66,77,88]\n",
        "sum=0\n",
        "for i in array:\n",
        "  sum+=i\n",
        "print(sum)"
      ],
      "metadata": {
        "id": "XiaOc_0kxVpj"
      },
      "execution_count": null,
      "outputs": []
    },
    {
      "cell_type": "code",
      "source": [
        "#Write a python program to find maximum and minimum element in an array.\n",
        "array=[11,22,33,44,55,66,77,88]\n",
        "max=array[0]\n",
        "min=array[0]\n",
        "for i in array:\n",
        "  if(i>max):\n",
        "    max=i;\n",
        "  elif(i<min):\n",
        "    min=i;\n",
        "print(max)\n",
        "print(min)"
      ],
      "metadata": {
        "id": "AiiqNbqsx8Ky"
      },
      "execution_count": null,
      "outputs": []
    },
    {
      "cell_type": "code",
      "source": [
        "#Write a python program to search an element in an array.\n",
        "array=[11,22,33,44,55,66,77,88]\n",
        "search=44\n",
        "index=-1\n",
        "for i in array:\n",
        "  if(i==search):\n",
        "    index=i\n",
        "if(index<0):\n",
        "  print(\"Not Found\")\n",
        "else:\n",
        "  print(\"Found at Index \"+str(index))"
      ],
      "metadata": {
        "id": "Yh2CUn4tyZlm"
      },
      "execution_count": null,
      "outputs": []
    },
    {
      "cell_type": "code",
      "source": [
        "#Write a python program to find second largest element in an array.\n",
        "array=[11,22,33,44,55,66,77,88]\n",
        "max=array[0]\n",
        "secondMax=array[0]\n",
        "for i in array:\n",
        "  if(i>max):\n",
        "    max=i;\n",
        "\n",
        "for i in array:\n",
        "  if(i<max and i>secondMax):\n",
        "    secondMax=i\n",
        "\n",
        "print(secondMax)"
      ],
      "metadata": {
        "id": "eulAhrqrzW1X",
        "colab": {
          "base_uri": "https://localhost:8080/"
        },
        "outputId": "2b1393a2-369b-40c3-d0aa-9c970d29eead"
      },
      "execution_count": 20,
      "outputs": [
        {
          "output_type": "stream",
          "name": "stdout",
          "text": [
            "77\n"
          ]
        }
      ]
    },
    {
      "cell_type": "code",
      "source": [
        "#Write a python program to count total number of even and odd elements in an array.\n",
        "array=[11,22,33,44,55,66,77,88]\n",
        "odd=0;\n",
        "even=0;\n",
        "for i in array:\n",
        "  if(i%2==0):\n",
        "    odd=odd+1\n",
        "  else:\n",
        "    even=even+1\n",
        "print(\"Odd Count \"+str(odd))\n",
        "print(\"Even Count \"+str(even))"
      ],
      "metadata": {
        "colab": {
          "base_uri": "https://localhost:8080/"
        },
        "id": "pDt-n7FP2n8n",
        "outputId": "1db62b25-ac5b-4e67-885e-0c41f306ec21"
      },
      "execution_count": 22,
      "outputs": [
        {
          "output_type": "stream",
          "name": "stdout",
          "text": [
            "Odd Count 4\n",
            "Even Count 4\n"
          ]
        }
      ]
    }
  ]
}