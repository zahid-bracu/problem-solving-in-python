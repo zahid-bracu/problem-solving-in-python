{
  "nbformat": 4,
  "nbformat_minor": 0,
  "metadata": {
    "colab": {
      "name": "string-problem-solving-in-python.ipynb",
      "provenance": [],
      "collapsed_sections": [],
      "authorship_tag": "ABX9TyOrcO9pF1A1KxO2IV5WSBuG",
      "include_colab_link": true
    },
    "kernelspec": {
      "name": "python3",
      "display_name": "Python 3"
    },
    "language_info": {
      "name": "python"
    }
  },
  "cells": [
    {
      "cell_type": "markdown",
      "metadata": {
        "id": "view-in-github",
        "colab_type": "text"
      },
      "source": [
        "<a href=\"https://colab.research.google.com/github/zahid-bracu/problem-solving-in-python/blob/main/string_problem_solving_in_python.ipynb\" target=\"_parent\"><img src=\"https://colab.research.google.com/assets/colab-badge.svg\" alt=\"Open In Colab\"/></a>"
      ]
    },
    {
      "cell_type": "code",
      "source": [
        "#iterate over a string\n",
        "string=\"database\"\n",
        "for s in string:\n",
        "  print(s+\":\"+chr(ord(s)-32))"
      ],
      "metadata": {
        "colab": {
          "base_uri": "https://localhost:8080/"
        },
        "id": "2QCS_kqwxq4z",
        "outputId": "66b00cd6-30a7-431a-ac5f-420cb248f6e0"
      },
      "execution_count": 36,
      "outputs": [
        {
          "output_type": "stream",
          "name": "stdout",
          "text": [
            "d:D\n",
            "a:A\n",
            "t:T\n",
            "a:A\n",
            "b:B\n",
            "a:A\n",
            "s:S\n",
            "e:E\n"
          ]
        }
      ]
    },
    {
      "cell_type": "code",
      "execution_count": 37,
      "metadata": {
        "colab": {
          "base_uri": "https://localhost:8080/"
        },
        "id": "veDel8NsvZ0l",
        "outputId": "27cfcb01-8025-4e3a-81f1-3338fa6eef2c"
      },
      "outputs": [
        {
          "output_type": "stream",
          "name": "stdout",
          "text": [
            "Count : 8\n"
          ]
        }
      ],
      "source": [
        "#Write a python program to find length of a string.(1)\n",
        "string=\"Database\"\n",
        "count=0\n",
        "for s in string:\n",
        "  count=count+1\n",
        "print(\"Count : \"+str(count))"
      ]
    },
    {
      "cell_type": "code",
      "source": [
        "#Write a python program to print a string symbol by symbol.(2)\n",
        "string=\"Database\"\n",
        "count=0\n",
        "for s in string:\n",
        "  print('The Character \"'+s+'\" is in index at '+str(count))\n",
        "  count=count+1"
      ],
      "metadata": {
        "colab": {
          "base_uri": "https://localhost:8080/"
        },
        "id": "b60hDjrcwq7z",
        "outputId": "b516e28b-f651-446d-eb7d-e76647f7a2f6"
      },
      "execution_count": 38,
      "outputs": [
        {
          "output_type": "stream",
          "name": "stdout",
          "text": [
            "The Character \"D\" is in index at 0\n",
            "The Character \"a\" is in index at 1\n",
            "The Character \"t\" is in index at 2\n",
            "The Character \"a\" is in index at 3\n",
            "The Character \"b\" is in index at 4\n",
            "The Character \"a\" is in index at 5\n",
            "The Character \"s\" is in index at 6\n",
            "The Character \"e\" is in index at 7\n"
          ]
        }
      ]
    },
    {
      "cell_type": "code",
      "source": [
        "#reverse over a string.(3)\n",
        "string=\"Database\"\n",
        "revString=\"\"\n",
        "for i in range(0,len(string)):\n",
        "  revString=string[i]+revString\n",
        "print(revString)"
      ],
      "metadata": {
        "colab": {
          "base_uri": "https://localhost:8080/"
        },
        "id": "uhX6bw0KykTT",
        "outputId": "67cbc60a-1502-434e-8a30-7b443ce62db3"
      },
      "execution_count": 39,
      "outputs": [
        {
          "output_type": "stream",
          "name": "stdout",
          "text": [
            "esabataD\n"
          ]
        }
      ]
    },
    {
      "cell_type": "code",
      "source": [
        "#Write a python program to copy one string to another string.(4)\n",
        "string=\"Database\"\n",
        "anotherString=\"\"\n",
        "for i in range(0,len(string)):\n",
        "  anotherString=anotherString+string[i]\n",
        "print(anotherString)"
      ],
      "metadata": {
        "colab": {
          "base_uri": "https://localhost:8080/"
        },
        "id": "ZIcNCs6Pz5zC",
        "outputId": "00c41871-6052-4d2b-c137-c21e00c7e111"
      },
      "execution_count": 40,
      "outputs": [
        {
          "output_type": "stream",
          "name": "stdout",
          "text": [
            "Database\n"
          ]
        }
      ]
    },
    {
      "cell_type": "code",
      "source": [
        "#Write a python program to convert lowercase string to uppercase.(5)\n",
        "string=\"database\"\n",
        "upperString=\"\"\n",
        "for s in string:\n",
        "  ch=chr(ord(s)-32)\n",
        "  upperString=upperString+ch\n",
        "print(upperString)"
      ],
      "metadata": {
        "colab": {
          "base_uri": "https://localhost:8080/"
        },
        "id": "EfRTFu6q3PuZ",
        "outputId": "2672d24c-7a4c-4497-eaad-9a9ad4fecbdf"
      },
      "execution_count": 41,
      "outputs": [
        {
          "output_type": "stream",
          "name": "stdout",
          "text": [
            "DATABASE\n"
          ]
        }
      ]
    },
    {
      "cell_type": "code",
      "source": [
        "#Write a python program to convert uppercase string to lowercase.(6)\n",
        "string=\"DATABASE\"\n",
        "lowerString=\"\"\n",
        "for s in string:\n",
        "  ch=chr(ord(s)+32)\n",
        "  lowerString=lowerString+ch\n",
        "print(lowerString)"
      ],
      "metadata": {
        "colab": {
          "base_uri": "https://localhost:8080/"
        },
        "id": "RO8jOotF5bXg",
        "outputId": "56d8f8a6-72f6-415d-c9b2-22ef73bdd94d"
      },
      "execution_count": 42,
      "outputs": [
        {
          "output_type": "stream",
          "name": "stdout",
          "text": [
            "database\n"
          ]
        }
      ]
    }
  ]
}