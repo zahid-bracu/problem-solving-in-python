{
  "nbformat": 4,
  "nbformat_minor": 0,
  "metadata": {
    "colab": {
      "provenance": [],
      "collapsed_sections": [],
      "authorship_tag": "ABX9TyOajK9Xpj6kytREpsmrD7sp",
      "include_colab_link": true
    },
    "kernelspec": {
      "name": "python3",
      "display_name": "Python 3"
    },
    "language_info": {
      "name": "python"
    }
  },
  "cells": [
    {
      "cell_type": "markdown",
      "metadata": {
        "id": "view-in-github",
        "colab_type": "text"
      },
      "source": [
        "<a href=\"https://colab.research.google.com/github/zahid-bracu/problem-solving-in-python/blob/main/Hacker_Rank_Python_Basic.ipynb\" target=\"_parent\"><img src=\"https://colab.research.google.com/assets/colab-badge.svg\" alt=\"Open In Colab\"/></a>"
      ]
    },
    {
      "cell_type": "code",
      "execution_count": 8,
      "metadata": {
        "colab": {
          "base_uri": "https://localhost:8080/"
        },
        "id": "tEJ7IVMrDCJT",
        "outputId": "e30b1b6e-48fb-4f8f-edd7-b0d30424ed7e"
      },
      "outputs": [
        {
          "output_type": "stream",
          "name": "stdout",
          "text": [
            "Hello, World!\n"
          ]
        }
      ],
      "source": [
        "# print hello world\n",
        "if __name__ == '__main__':\n",
        "    print(\"Hello, World!\")"
      ]
    },
    {
      "cell_type": "code",
      "source": [
        "# Given an integer, , perform the following conditional actions:\n",
        "# If n  is odd, print Weird\n",
        "# If n is even and in the inclusive range of  to , print Not Weird\n",
        "# If n is even and in the inclusive range of  to , print Weird\n",
        "# If n is even and greater than , print Not Weird\n",
        "\n",
        "import math\n",
        "import os\n",
        "import random\n",
        "import re\n",
        "import sys\n",
        "\n",
        "\n",
        "\n",
        "if __name__ == '__main__':\n",
        "    n = int(input().strip())\n",
        "if n%2==0:\n",
        "    if n>=2 and n<=5:\n",
        "        print(\"Not Weird\")\n",
        "    elif n>=6 and n<=20:\n",
        "        print(\"Weird\")\n",
        "    else:\n",
        "        print(\"Not Weird\")\n",
        "else:\n",
        "    print(\"Weird\")\n"
      ],
      "metadata": {
        "colab": {
          "base_uri": "https://localhost:8080/"
        },
        "id": "IQYKI9NuDRXb",
        "outputId": "e173d357-8170-4e95-bac6-8eda0943bbd6"
      },
      "execution_count": 5,
      "outputs": [
        {
          "output_type": "stream",
          "name": "stdout",
          "text": [
            "2\n",
            "Not Weird\n"
          ]
        }
      ]
    },
    {
      "cell_type": "code",
      "source": [
        "# a & b :Add code to print three lines where:\n",
        "# The first line contains the sum of the two numbers.\n",
        "# The second line contains the difference of the two numbers (first - second).\n",
        "# The third line contains the product of the two numbers.\n",
        "\n",
        "if __name__ == '__main__':\n",
        "    a = int(input())\n",
        "    b = int(input())\n",
        "    print(a+b)\n",
        "    print(a-b)\n",
        "    print(a*b)"
      ],
      "metadata": {
        "colab": {
          "base_uri": "https://localhost:8080/"
        },
        "id": "MkEEZGiDD4-y",
        "outputId": "77504737-88b8-4622-ea5b-e84535b4d0d1"
      },
      "execution_count": 6,
      "outputs": [
        {
          "output_type": "stream",
          "name": "stdout",
          "text": [
            "3\n",
            "1\n",
            "4\n",
            "2\n",
            "3\n"
          ]
        }
      ]
    },
    {
      "cell_type": "code",
      "source": [
        "# Add logic to print two lines. The first line should contain the result of integer division,  // . \n",
        "# The second line should contain the result of float division,  / .\n",
        "# No rounding or formatting is necessary.\n",
        "if __name__ == '__main__':\n",
        "    a = int(input())\n",
        "    b = int(input())\n",
        "    print(a//b)\n",
        "    print(a/b)"
      ],
      "metadata": {
        "colab": {
          "base_uri": "https://localhost:8080/"
        },
        "id": "sLgEf5MOESvy",
        "outputId": "b3dfa993-b292-4d5d-d21c-037dfd905401"
      },
      "execution_count": 7,
      "outputs": [
        {
          "output_type": "stream",
          "name": "stdout",
          "text": [
            "3\n",
            "2\n",
            "1\n",
            "1.5\n"
          ]
        }
      ]
    },
    {
      "cell_type": "code",
      "source": [
        "# The provided code stub reads and integer, n , from STDIN. For all non-negative integers i<n , print i^2 .\n",
        "if __name__ == '__main__':\n",
        "    n = int(input())\n",
        "    for i in range(n):\n",
        "        print(i**2);"
      ],
      "metadata": {
        "colab": {
          "base_uri": "https://localhost:8080/"
        },
        "id": "65QKxNHfFLkz",
        "outputId": "c87373ef-7dee-4a0d-efd7-d7274eaf4d61"
      },
      "execution_count": 9,
      "outputs": [
        {
          "output_type": "stream",
          "name": "stdout",
          "text": [
            "4\n",
            "0\n",
            "1\n",
            "4\n",
            "9\n"
          ]
        }
      ]
    },
    {
      "cell_type": "code",
      "source": [
        "# leap year\n",
        "def is_leap(year):\n",
        "    leap = \"Not Leap Year\"\n",
        "    if ((year%4==0) and (year%100!=0) or (year%400==0)):\n",
        "        leap=\"Leap Year\"\n",
        "    return leap\n",
        "year = int(input())\n",
        "print(is_leap(year))\n"
      ],
      "metadata": {
        "colab": {
          "base_uri": "https://localhost:8080/"
        },
        "id": "N34Kp7zvGZHb",
        "outputId": "9f5c7667-eb8d-4407-9e2a-b7fe1e21b682"
      },
      "execution_count": 13,
      "outputs": [
        {
          "output_type": "stream",
          "name": "stdout",
          "text": [
            "2222\n",
            "Not Leap Year\n"
          ]
        }
      ]
    }
  ]
}